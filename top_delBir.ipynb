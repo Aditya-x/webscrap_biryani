{
 "cells": [
  {
   "cell_type": "code",
   "execution_count": 1,
   "id": "976ef04b",
   "metadata": {},
   "outputs": [],
   "source": [
    "# Importing important libraries\n",
    "import pandas as pd\n",
    "from bs4 import BeautifulSoup\n",
    "import requests\n",
    "import re"
   ]
  },
  {
   "cell_type": "code",
   "execution_count": null,
   "id": "133df9ff",
   "metadata": {},
   "outputs": [],
   "source": [
    "# Dineout Scrapping\n",
    "\n",
    "\n",
    "rest_list = []\n",
    "for page in range(1,18):\n",
    "    print(f'getting page, {page}')\n",
    "\n",
    "    s = requests.Session()\n",
    "\n",
    "    url = f\"https://www.dineout.co.in/delhi-restaurants?search_str=biryani&p={page}\"  # URL of the website\n",
    "    header = {'User-Agent':'Mozilla/5.0 (X11; CrOS x86_64 8172.45.0) AppleWebKit/537.36 (KHTML, like Gecko) Chrome/51.0.2704.64 Safari/537.36'} # Temporary user agent\n",
    "    r = s.get(url, headers=header)\n",
    "    soup = BeautifulSoup(r.content, 'html.parser')\n",
    "\n",
    "    divs = soup.find_all('div', class_ = 'restnt-card restaurant')\n",
    "\n",
    "    for item in divs:\n",
    "        code = item.find('a')['href'].split('-')[-1] # restaurant code\n",
    "        print(f'Getting details for {code}')\n",
    "        data = s.get(f'https://www.dineout.co.in/get_rdp_data_main/delhi/{code}/restaurant_detail_main').json()\n",
    "\n",
    "        info = data['header']\n",
    "        info.pop('share') #clean up csv\n",
    "        info.pop('options')\n",
    "        rest_list.append(info)\n",
    "\n",
    "df = pd.DataFrame(rest_list)"
   ]
  },
  {
   "cell_type": "code",
   "execution_count": 3,
   "id": "6c889784",
   "metadata": {},
   "outputs": [],
   "source": [
    "del_bir = df[['restaurantId','restaurantName', 'localityName', 'costForTwo', 'avgRating','ratingCount','reviewCount', 'address']].reset_index(drop=True)\n",
    "dineout_scrap = del_bir[del_bir['ratingCount'] > 5]"
   ]
  },
  {
   "cell_type": "code",
   "execution_count": 17,
   "id": "5d488705",
   "metadata": {},
   "outputs": [],
   "source": [
    "# Magicpin Scraping code\n",
    "\n",
    "\n",
    "url = \"https://magicpin.in/Delhi/search/?dist=10&query=biriyani&rt=3\"  # URL of the website \n",
    "header = {'User-Agent':'Mozilla/5.0 (X11; CrOS x86_64 8172.45.0) AppleWebKit/537.36 (KHTML, like Gecko) Chrome/51.0.2704.64 Safari/537.36'} # Temporary user agent\n",
    "r = requests.get(url, headers=header)\n",
    "soup = BeautifulSoup(r.content, 'html.parser')\n",
    "rest_list=[]\n",
    "\n",
    "divs = soup.find_all('div', class_ =\"merchant-card-single\")\n",
    "\n",
    "for item in divs:\n",
    "    title = item.find('h3').text.strip() # restaurant name\n",
    "    loc = item.find('h4', class_ =\"merchant-location\").text.strip() # restaurant location\n",
    "    try: # used this try and except method because some restaurants are unrated and while scrpaping those we would run into an error\n",
    "        rating = item.find('span', class_=\"rating-value\").text \n",
    "        \n",
    "        \n",
    "    except:\n",
    "        rating = None\n",
    "\n",
    "    price = item.find('div', class_=\"cft-timing\").text.strip()\n",
    "    price = re.sub(\"[^0-9]\", \"\", price) # price for biriyani\n",
    "\n",
    "    url1 = item.find('a').get('href')\n",
    "    r2 = requests.get(url1, headers=header)\n",
    "    soup1 = BeautifulSoup(r2.content, 'html.parser')\n",
    "    divs1 = soup1.find_all('div', class_=\"ratings-header\")\n",
    "    for i in divs1:\n",
    "        nor = i.find('span', class_=\"claims-title\").text.strip()\n",
    "        no_of_rating = re.sub(\"[^0-9]\", \"\", nor)\n",
    "\n",
    "    \n",
    "\n",
    "    \n",
    "\n",
    "    biry_del = {\n",
    "        'name': title,\n",
    "        'location': loc,\n",
    "        'rating': rating,\n",
    "        'numberRating': no_of_rating,\n",
    "        'price': price\n",
    "    }\n",
    "    rest_list.append(biry_del)\n",
    "\n",
    "magicpin_scrap = pd.DataFrame(rest_list)"
   ]
  },
  {
   "cell_type": "code",
   "execution_count": 20,
   "id": "d538edac",
   "metadata": {},
   "outputs": [],
   "source": [
    "#Cleaning the Location column\n",
    "\n",
    "a = 0\n",
    "for i in magicpin_scrap['location']:\n",
    "    magicpin_scrap['location'][a] = i.split('\\n', 1)[0]\n",
    "    a = a+1"
   ]
  },
  {
   "cell_type": "code",
   "execution_count": null,
   "id": "e8e31f72",
   "metadata": {},
   "outputs": [],
   "source": [
    "magicpin_scrap"
   ]
  },
  {
   "cell_type": "code",
   "execution_count": null,
   "id": "86bc6fff",
   "metadata": {},
   "outputs": [],
   "source": [
    "magicpin_scrap.to_csv(\"magicpin_scrape.csv\")\n",
    "dineout_scrap.to_csv(\"dineout_scrape.csv\")"
   ]
  }
 ],
 "metadata": {
  "kernelspec": {
   "display_name": "Python 3",
   "language": "python",
   "name": "python3"
  },
  "language_info": {
   "codemirror_mode": {
    "name": "ipython",
    "version": 3
   },
   "file_extension": ".py",
   "mimetype": "text/x-python",
   "name": "python",
   "nbconvert_exporter": "python",
   "pygments_lexer": "ipython3",
   "version": "3.8.8"
  }
 },
 "nbformat": 4,
 "nbformat_minor": 5
}
